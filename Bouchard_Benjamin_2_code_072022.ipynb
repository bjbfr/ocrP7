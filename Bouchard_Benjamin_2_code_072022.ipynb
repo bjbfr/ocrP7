{
 "cells": [
  {
   "cell_type": "markdown",
   "id": "13cbe286",
   "metadata": {
    "id": "aIFqE49CbmvG",
    "papermill": {
     "duration": 0.015934,
     "end_time": "2022-07-14T22:34:38.445122",
     "exception": false,
     "start_time": "2022-07-14T22:34:38.429188",
     "status": "completed"
    },
    "tags": []
   },
   "source": [
    "### Import"
   ]
  },
  {
   "cell_type": "markdown",
   "id": "8584fee4",
   "metadata": {
    "papermill": {
     "duration": 0.009538,
     "end_time": "2022-07-14T22:34:38.469915",
     "exception": false,
     "start_time": "2022-07-14T22:34:38.460377",
     "status": "completed"
    },
    "tags": []
   },
   "source": [
    "#### pip install"
   ]
  },
  {
   "cell_type": "code",
   "execution_count": 1,
   "id": "28708031",
   "metadata": {
    "_kg_hide-output": false,
    "execution": {
     "iopub.execute_input": "2022-07-14T22:34:38.491630Z",
     "iopub.status.busy": "2022-07-14T22:34:38.490957Z",
     "iopub.status.idle": "2022-07-14T22:34:59.483718Z",
     "shell.execute_reply": "2022-07-14T22:34:59.482618Z"
    },
    "executionInfo": {
     "elapsed": 3828,
     "status": "ok",
     "timestamp": 1657726211743,
     "user": {
      "displayName": "Benjamin Bouchard",
      "userId": "02575701693408586470"
     },
     "user_tz": -120
    },
    "id": "YqzdYN16LjSp",
    "outputId": "55a05ec5-e323-4aad-cad5-cf1d002dd776",
    "papermill": {
     "duration": 21.006825,
     "end_time": "2022-07-14T22:34:59.486300",
     "exception": false,
     "start_time": "2022-07-14T22:34:38.479475",
     "status": "completed"
    },
    "tags": []
   },
   "outputs": [
    {
     "name": "stdout",
     "output_type": "stream",
     "text": [
      "Requirement already satisfied: keras_tuner in /opt/conda/lib/python3.7/site-packages (1.1.2)\r\n",
      "Requirement already satisfied: ipython in /opt/conda/lib/python3.7/site-packages (from keras_tuner) (7.33.0)\r\n",
      "Requirement already satisfied: requests in /opt/conda/lib/python3.7/site-packages (from keras_tuner) (2.27.1)\r\n",
      "Requirement already satisfied: kt-legacy in /opt/conda/lib/python3.7/site-packages (from keras_tuner) (1.0.4)\r\n",
      "Requirement already satisfied: packaging in /opt/conda/lib/python3.7/site-packages (from keras_tuner) (21.3)\r\n",
      "Requirement already satisfied: tensorboard in /opt/conda/lib/python3.7/site-packages (from keras_tuner) (2.6.0)\r\n",
      "Requirement already satisfied: numpy in /opt/conda/lib/python3.7/site-packages (from keras_tuner) (1.21.6)\r\n",
      "Requirement already satisfied: decorator in /opt/conda/lib/python3.7/site-packages (from ipython->keras_tuner) (5.1.1)\r\n",
      "Requirement already satisfied: backcall in /opt/conda/lib/python3.7/site-packages (from ipython->keras_tuner) (0.2.0)\r\n",
      "Requirement already satisfied: pickleshare in /opt/conda/lib/python3.7/site-packages (from ipython->keras_tuner) (0.7.5)\r\n",
      "Requirement already satisfied: pexpect>4.3 in /opt/conda/lib/python3.7/site-packages (from ipython->keras_tuner) (4.8.0)\r\n",
      "Requirement already satisfied: pygments in /opt/conda/lib/python3.7/site-packages (from ipython->keras_tuner) (2.12.0)\r\n",
      "Requirement already satisfied: traitlets>=4.2 in /opt/conda/lib/python3.7/site-packages (from ipython->keras_tuner) (5.2.1.post0)\r\n",
      "Requirement already satisfied: prompt-toolkit!=3.0.0,!=3.0.1,<3.1.0,>=2.0.0 in /opt/conda/lib/python3.7/site-packages (from ipython->keras_tuner) (3.0.29)\r\n",
      "Requirement already satisfied: setuptools>=18.5 in /opt/conda/lib/python3.7/site-packages (from ipython->keras_tuner) (59.8.0)\r\n",
      "Requirement already satisfied: matplotlib-inline in /opt/conda/lib/python3.7/site-packages (from ipython->keras_tuner) (0.1.3)\r\n",
      "Requirement already satisfied: jedi>=0.16 in /opt/conda/lib/python3.7/site-packages (from ipython->keras_tuner) (0.18.1)\r\n",
      "Requirement already satisfied: pyparsing!=3.0.5,>=2.0.2 in /opt/conda/lib/python3.7/site-packages (from packaging->keras_tuner) (3.0.9)\r\n",
      "Requirement already satisfied: certifi>=2017.4.17 in /opt/conda/lib/python3.7/site-packages (from requests->keras_tuner) (2022.6.15)\r\n",
      "Requirement already satisfied: idna<4,>=2.5 in /opt/conda/lib/python3.7/site-packages (from requests->keras_tuner) (3.3)\r\n",
      "Requirement already satisfied: charset-normalizer~=2.0.0 in /opt/conda/lib/python3.7/site-packages (from requests->keras_tuner) (2.0.12)\r\n",
      "Requirement already satisfied: urllib3<1.27,>=1.21.1 in /opt/conda/lib/python3.7/site-packages (from requests->keras_tuner) (1.26.9)\r\n",
      "Requirement already satisfied: werkzeug>=0.11.15 in /opt/conda/lib/python3.7/site-packages (from tensorboard->keras_tuner) (2.1.2)\r\n",
      "Requirement already satisfied: tensorboard-data-server<0.7.0,>=0.6.0 in /opt/conda/lib/python3.7/site-packages (from tensorboard->keras_tuner) (0.6.1)\r\n",
      "Requirement already satisfied: markdown>=2.6.8 in /opt/conda/lib/python3.7/site-packages (from tensorboard->keras_tuner) (3.3.7)\r\n",
      "Requirement already satisfied: wheel>=0.26 in /opt/conda/lib/python3.7/site-packages (from tensorboard->keras_tuner) (0.37.1)\r\n",
      "Requirement already satisfied: grpcio>=1.24.3 in /opt/conda/lib/python3.7/site-packages (from tensorboard->keras_tuner) (1.43.0)\r\n",
      "Requirement already satisfied: protobuf>=3.6.0 in /opt/conda/lib/python3.7/site-packages (from tensorboard->keras_tuner) (3.19.4)\r\n",
      "Requirement already satisfied: google-auth<2,>=1.6.3 in /opt/conda/lib/python3.7/site-packages (from tensorboard->keras_tuner) (1.35.0)\r\n",
      "Requirement already satisfied: google-auth-oauthlib<0.5,>=0.4.1 in /opt/conda/lib/python3.7/site-packages (from tensorboard->keras_tuner) (0.4.6)\r\n",
      "Requirement already satisfied: tensorboard-plugin-wit>=1.6.0 in /opt/conda/lib/python3.7/site-packages (from tensorboard->keras_tuner) (1.8.1)\r\n",
      "Requirement already satisfied: absl-py>=0.4 in /opt/conda/lib/python3.7/site-packages (from tensorboard->keras_tuner) (1.0.0)\r\n",
      "Requirement already satisfied: six in /opt/conda/lib/python3.7/site-packages (from absl-py>=0.4->tensorboard->keras_tuner) (1.16.0)\r\n",
      "Requirement already satisfied: rsa<5,>=3.1.4 in /opt/conda/lib/python3.7/site-packages (from google-auth<2,>=1.6.3->tensorboard->keras_tuner) (4.8)\r\n",
      "Requirement already satisfied: cachetools<5.0,>=2.0.0 in /opt/conda/lib/python3.7/site-packages (from google-auth<2,>=1.6.3->tensorboard->keras_tuner) (4.2.4)\r\n",
      "Requirement already satisfied: pyasn1-modules>=0.2.1 in /opt/conda/lib/python3.7/site-packages (from google-auth<2,>=1.6.3->tensorboard->keras_tuner) (0.2.7)\r\n",
      "Requirement already satisfied: requests-oauthlib>=0.7.0 in /opt/conda/lib/python3.7/site-packages (from google-auth-oauthlib<0.5,>=0.4.1->tensorboard->keras_tuner) (1.3.1)\r\n",
      "Requirement already satisfied: parso<0.9.0,>=0.8.0 in /opt/conda/lib/python3.7/site-packages (from jedi>=0.16->ipython->keras_tuner) (0.8.3)\r\n",
      "Requirement already satisfied: importlib-metadata>=4.4 in /opt/conda/lib/python3.7/site-packages (from markdown>=2.6.8->tensorboard->keras_tuner) (4.12.0)\r\n",
      "Requirement already satisfied: ptyprocess>=0.5 in /opt/conda/lib/python3.7/site-packages (from pexpect>4.3->ipython->keras_tuner) (0.7.0)\r\n",
      "Requirement already satisfied: wcwidth in /opt/conda/lib/python3.7/site-packages (from prompt-toolkit!=3.0.0,!=3.0.1,<3.1.0,>=2.0.0->ipython->keras_tuner) (0.2.5)\r\n",
      "Requirement already satisfied: typing-extensions>=3.6.4 in /opt/conda/lib/python3.7/site-packages (from importlib-metadata>=4.4->markdown>=2.6.8->tensorboard->keras_tuner) (4.1.1)\r\n",
      "Requirement already satisfied: zipp>=0.5 in /opt/conda/lib/python3.7/site-packages (from importlib-metadata>=4.4->markdown>=2.6.8->tensorboard->keras_tuner) (3.8.0)\r\n",
      "Requirement already satisfied: pyasn1<0.5.0,>=0.4.6 in /opt/conda/lib/python3.7/site-packages (from pyasn1-modules>=0.2.1->google-auth<2,>=1.6.3->tensorboard->keras_tuner) (0.4.8)\r\n",
      "Requirement already satisfied: oauthlib>=3.0.0 in /opt/conda/lib/python3.7/site-packages (from requests-oauthlib>=0.7.0->google-auth-oauthlib<0.5,>=0.4.1->tensorboard->keras_tuner) (3.2.0)\r\n",
      "\u001b[33mWARNING: Running pip as the 'root' user can result in broken permissions and conflicting behaviour with the system package manager. It is recommended to use a virtual environment instead: https://pip.pypa.io/warnings/venv\u001b[0m\u001b[33m\r\n",
      "\u001b[0mCollecting livelossplot\r\n",
      "  Downloading livelossplot-0.5.5-py3-none-any.whl (22 kB)\r\n",
      "Requirement already satisfied: matplotlib in /opt/conda/lib/python3.7/site-packages (from livelossplot) (3.5.2)\r\n",
      "Requirement already satisfied: numpy<1.22 in /opt/conda/lib/python3.7/site-packages (from livelossplot) (1.21.6)\r\n",
      "Requirement already satisfied: bokeh in /opt/conda/lib/python3.7/site-packages (from livelossplot) (2.4.3)\r\n",
      "Requirement already satisfied: ipython==7.* in /opt/conda/lib/python3.7/site-packages (from livelossplot) (7.33.0)\r\n",
      "Requirement already satisfied: pickleshare in /opt/conda/lib/python3.7/site-packages (from ipython==7.*->livelossplot) (0.7.5)\r\n",
      "Requirement already satisfied: prompt-toolkit!=3.0.0,!=3.0.1,<3.1.0,>=2.0.0 in /opt/conda/lib/python3.7/site-packages (from ipython==7.*->livelossplot) (3.0.29)\r\n",
      "Requirement already satisfied: backcall in /opt/conda/lib/python3.7/site-packages (from ipython==7.*->livelossplot) (0.2.0)\r\n",
      "Requirement already satisfied: pygments in /opt/conda/lib/python3.7/site-packages (from ipython==7.*->livelossplot) (2.12.0)\r\n",
      "Requirement already satisfied: jedi>=0.16 in /opt/conda/lib/python3.7/site-packages (from ipython==7.*->livelossplot) (0.18.1)\r\n",
      "Requirement already satisfied: matplotlib-inline in /opt/conda/lib/python3.7/site-packages (from ipython==7.*->livelossplot) (0.1.3)\r\n",
      "Requirement already satisfied: setuptools>=18.5 in /opt/conda/lib/python3.7/site-packages (from ipython==7.*->livelossplot) (59.8.0)\r\n",
      "Requirement already satisfied: decorator in /opt/conda/lib/python3.7/site-packages (from ipython==7.*->livelossplot) (5.1.1)\r\n",
      "Requirement already satisfied: pexpect>4.3 in /opt/conda/lib/python3.7/site-packages (from ipython==7.*->livelossplot) (4.8.0)\r\n",
      "Requirement already satisfied: traitlets>=4.2 in /opt/conda/lib/python3.7/site-packages (from ipython==7.*->livelossplot) (5.2.1.post0)\r\n",
      "Requirement already satisfied: tornado>=5.1 in /opt/conda/lib/python3.7/site-packages (from bokeh->livelossplot) (6.1)\r\n",
      "Requirement already satisfied: typing-extensions>=3.10.0 in /opt/conda/lib/python3.7/site-packages (from bokeh->livelossplot) (4.1.1)\r\n",
      "Requirement already satisfied: packaging>=16.8 in /opt/conda/lib/python3.7/site-packages (from bokeh->livelossplot) (21.3)\r\n",
      "Requirement already satisfied: Jinja2>=2.9 in /opt/conda/lib/python3.7/site-packages (from bokeh->livelossplot) (3.1.2)\r\n",
      "Requirement already satisfied: PyYAML>=3.10 in /opt/conda/lib/python3.7/site-packages (from bokeh->livelossplot) (6.0)\r\n",
      "Requirement already satisfied: pillow>=7.1.0 in /opt/conda/lib/python3.7/site-packages (from bokeh->livelossplot) (9.1.1)\r\n",
      "Requirement already satisfied: python-dateutil>=2.7 in /opt/conda/lib/python3.7/site-packages (from matplotlib->livelossplot) (2.8.2)\r\n",
      "Requirement already satisfied: pyparsing>=2.2.1 in /opt/conda/lib/python3.7/site-packages (from matplotlib->livelossplot) (3.0.9)\r\n",
      "Requirement already satisfied: fonttools>=4.22.0 in /opt/conda/lib/python3.7/site-packages (from matplotlib->livelossplot) (4.33.3)\r\n",
      "Requirement already satisfied: kiwisolver>=1.0.1 in /opt/conda/lib/python3.7/site-packages (from matplotlib->livelossplot) (1.4.2)\r\n",
      "Requirement already satisfied: cycler>=0.10 in /opt/conda/lib/python3.7/site-packages (from matplotlib->livelossplot) (0.11.0)\r\n",
      "Requirement already satisfied: parso<0.9.0,>=0.8.0 in /opt/conda/lib/python3.7/site-packages (from jedi>=0.16->ipython==7.*->livelossplot) (0.8.3)\r\n",
      "Requirement already satisfied: MarkupSafe>=2.0 in /opt/conda/lib/python3.7/site-packages (from Jinja2>=2.9->bokeh->livelossplot) (2.0.1)\r\n",
      "Requirement already satisfied: ptyprocess>=0.5 in /opt/conda/lib/python3.7/site-packages (from pexpect>4.3->ipython==7.*->livelossplot) (0.7.0)\r\n",
      "Requirement already satisfied: wcwidth in /opt/conda/lib/python3.7/site-packages (from prompt-toolkit!=3.0.0,!=3.0.1,<3.1.0,>=2.0.0->ipython==7.*->livelossplot) (0.2.5)\r\n",
      "Requirement already satisfied: six>=1.5 in /opt/conda/lib/python3.7/site-packages (from python-dateutil>=2.7->matplotlib->livelossplot) (1.16.0)\r\n",
      "Installing collected packages: livelossplot\r\n",
      "Successfully installed livelossplot-0.5.5\r\n",
      "\u001b[33mWARNING: Running pip as the 'root' user can result in broken permissions and conflicting behaviour with the system package manager. It is recommended to use a virtual environment instead: https://pip.pypa.io/warnings/venv\u001b[0m\u001b[33m\r\n",
      "\u001b[0m"
     ]
    }
   ],
   "source": [
    "!pip install keras_tuner\n",
    "!pip install livelossplot"
   ]
  },
  {
   "cell_type": "code",
   "execution_count": 2,
   "id": "d05dcd1f",
   "metadata": {
    "execution": {
     "iopub.execute_input": "2022-07-14T22:34:59.508553Z",
     "iopub.status.busy": "2022-07-14T22:34:59.508201Z",
     "iopub.status.idle": "2022-07-14T22:35:06.828817Z",
     "shell.execute_reply": "2022-07-14T22:35:06.827682Z"
    },
    "executionInfo": {
     "elapsed": 312,
     "status": "ok",
     "timestamp": 1657726469019,
     "user": {
      "displayName": "Benjamin Bouchard",
      "userId": "02575701693408586470"
     },
     "user_tz": -120
    },
    "id": "XHA9pwYsg2TU",
    "papermill": {
     "duration": 7.334568,
     "end_time": "2022-07-14T22:35:06.831247",
     "exception": false,
     "start_time": "2022-07-14T22:34:59.496679",
     "status": "completed"
    },
    "tags": []
   },
   "outputs": [],
   "source": [
    "from pathlib import Path\n",
    "import re\n",
    "import random\n",
    "import math\n",
    "import functools\n",
    "import shutil\n",
    "import os\n",
    "import itertools\n",
    "import datetime\n",
    "import time\n",
    "\n",
    "import IPython\n",
    "from IPython.display import Image, display\n",
    "import matplotlib.pyplot as plt\n",
    "import seaborn as sns\n",
    "import PIL\n",
    "import PIL.Image\n",
    "import pickle\n",
    "\n",
    "#\n",
    "import numpy as np\n",
    "import pandas as pd\n",
    "from skimage import exposure\n",
    "import tensorflow as tf\n",
    "import tensorflow.keras.applications as tfkapp\n",
    "import keras_tuner\n",
    "import tensorflow_hub as tfhub\n",
    "\n",
    "import livelossplot"
   ]
  },
  {
   "cell_type": "markdown",
   "id": "e6483f9e",
   "metadata": {
    "id": "0mKsdXeByMAG",
    "papermill": {
     "duration": 0.009956,
     "end_time": "2022-07-14T22:35:06.851382",
     "exception": false,
     "start_time": "2022-07-14T22:35:06.841426",
     "status": "completed"
    },
    "tags": []
   },
   "source": [
    "#### Constants"
   ]
  },
  {
   "cell_type": "code",
   "execution_count": 3,
   "id": "849720a7",
   "metadata": {
    "execution": {
     "iopub.execute_input": "2022-07-14T22:35:06.874473Z",
     "iopub.status.busy": "2022-07-14T22:35:06.873178Z",
     "iopub.status.idle": "2022-07-14T22:35:06.885488Z",
     "shell.execute_reply": "2022-07-14T22:35:06.884562Z"
    },
    "executionInfo": {
     "elapsed": 11,
     "status": "ok",
     "timestamp": 1657726244262,
     "user": {
      "displayName": "Benjamin Bouchard",
      "userId": "02575701693408586470"
     },
     "user_tz": -120
    },
    "id": "yJ66D_CUyJyq",
    "papermill": {
     "duration": 0.025746,
     "end_time": "2022-07-14T22:35:06.887334",
     "exception": false,
     "start_time": "2022-07-14T22:35:06.861588",
     "status": "completed"
    },
    "tags": []
   },
   "outputs": [],
   "source": [
    "DEV = True\n",
    "\n",
    "#common paths\n",
    "C_PATH      = Path('/kaggle/working') \n",
    "IMG_PATH    = C_PATH  / 'Images/'\n",
    "P6_PATH     = C_PATH \n",
    "LOG_PATH    = C_PATH  / 'logs/'\n",
    "TUNER_PATH  = C_PATH  / 'tuner/'\n",
    "\n",
    "# flag to force sampling\n",
    "FORCE_TEST_SAMPLING = False\n",
    "FORCE_DEV_SAMPLING = False\n",
    "\n",
    "# random seed\n",
    "SEED = 123\n",
    "\n",
    "TRAIN_SIZE  = 0.75\n",
    "VAL_SIZE    = 0.15\n",
    "TEST_SIZE   = 0.10\n",
    "BATCH_SIZE  = 24\n",
    "IMG_SIZE    = (224,224)\n",
    "\n",
    "# Images for dev path (limited number of class)\n",
    "I_PATH2 = C_PATH / 'Images-dev/'\n",
    "# Images for dev path (limited number of class)\n",
    "T_PATH2 = C_PATH / 'Images-tst-dev/'\n",
    "# num classes\n",
    "NUM_CLASSES2 = 3\n",
    "\n",
    "# Images path\n",
    "I_PATH = C_PATH / 'Images/'\n",
    "# Images for testing path\n",
    "T_PATH = C_PATH / 'Images-test/'\n",
    "# num classes\n",
    "NUM_CLASSES = 120\n",
    "\n",
    "# random seed\n",
    "def set_seed(seed):\n",
    "  tf.random.set_seed(seed)\n",
    "  np.random.seed(seed)\n",
    "  random.seed(seed)\n",
    "\n",
    "set_seed(SEED)\n",
    "\n",
    "# directories handling\n",
    "rm_dir  = lambda dir: shutil.rmtree(dir) if (dir is not None and dir.exists()) else None\n",
    "\n",
    "def exec_time(start, end):\n",
    "   diff_time = end - start\n",
    "   m, s = divmod(diff_time, 60)\n",
    "   h, m = divmod(m, 60)\n",
    "   s,m,h = int(round(s, 0)), int(round(m, 0)), int(round(h, 0))\n",
    "   time_span = \"{0:02d}:{1:02d}:{2:02d}\".format(h, m, s)\n",
    "   print(f\"Execution Time: {time_span}\")\n",
    "   return diff_time\n",
    "\n",
    "trainableParams    = lambda model: np.sum([np.prod(v.get_shape()) for v in model.trainable_weights])\n",
    "nonTrainableParams = lambda model: np.sum([np.prod(v.get_shape()) for v in model.non_trainable_weights])\n"
   ]
  },
  {
   "cell_type": "code",
   "execution_count": 4,
   "id": "023fa70d",
   "metadata": {
    "execution": {
     "iopub.execute_input": "2022-07-14T22:35:06.908465Z",
     "iopub.status.busy": "2022-07-14T22:35:06.908171Z",
     "iopub.status.idle": "2022-07-14T22:35:06.912960Z",
     "shell.execute_reply": "2022-07-14T22:35:06.912011Z"
    },
    "papermill": {
     "duration": 0.017931,
     "end_time": "2022-07-14T22:35:06.915164",
     "exception": false,
     "start_time": "2022-07-14T22:35:06.897233",
     "status": "completed"
    },
    "tags": []
   },
   "outputs": [],
   "source": [
    "# run tf functions eagerly\n",
    "tf.config.run_functions_eagerly(True)\n",
    "\n",
    "#interop threads (to run different graph)\n",
    "tf.config.threading.set_inter_op_parallelism_threads(2)\n",
    "\n",
    "#interop threads (to run within a graph)\n",
    "tf.config.threading.set_intra_op_parallelism_threads(3)"
   ]
  },
  {
   "cell_type": "markdown",
   "id": "a15b6c40",
   "metadata": {
    "id": "5MbkCuKrhj5b",
    "papermill": {
     "duration": 0.009706,
     "end_time": "2022-07-14T22:35:06.934972",
     "exception": false,
     "start_time": "2022-07-14T22:35:06.925266",
     "status": "completed"
    },
    "tags": []
   },
   "source": [
    "### Manage directories"
   ]
  },
  {
   "cell_type": "code",
   "execution_count": 5,
   "id": "25e44e4d",
   "metadata": {
    "execution": {
     "iopub.execute_input": "2022-07-14T22:35:06.956377Z",
     "iopub.status.busy": "2022-07-14T22:35:06.955548Z",
     "iopub.status.idle": "2022-07-14T22:36:17.519287Z",
     "shell.execute_reply": "2022-07-14T22:36:17.517889Z"
    },
    "papermill": {
     "duration": 70.577215,
     "end_time": "2022-07-14T22:36:17.522069",
     "exception": false,
     "start_time": "2022-07-14T22:35:06.944854",
     "status": "completed"
    },
    "tags": []
   },
   "outputs": [],
   "source": [
    "! cp -r /kaggle/input/standforddogs/Images/  /kaggle/working"
   ]
  },
  {
   "cell_type": "markdown",
   "id": "728bf973",
   "metadata": {
    "id": "GzvvLdubysDn",
    "papermill": {
     "duration": 0.010437,
     "end_time": "2022-07-14T22:36:17.543407",
     "exception": false,
     "start_time": "2022-07-14T22:36:17.532970",
     "status": "completed"
    },
    "tags": []
   },
   "source": [
    "#### class ImgDir"
   ]
  },
  {
   "cell_type": "code",
   "execution_count": 6,
   "id": "9b871a03",
   "metadata": {
    "execution": {
     "iopub.execute_input": "2022-07-14T22:36:17.565589Z",
     "iopub.status.busy": "2022-07-14T22:36:17.565263Z",
     "iopub.status.idle": "2022-07-14T22:36:19.818574Z",
     "shell.execute_reply": "2022-07-14T22:36:19.817411Z"
    },
    "executionInfo": {
     "elapsed": 11,
     "status": "ok",
     "timestamp": 1657726258253,
     "user": {
      "displayName": "Benjamin Bouchard",
      "userId": "02575701693408586470"
     },
     "user_tz": -120
    },
    "id": "UsWmrlSZVeU4",
    "papermill": {
     "duration": 2.268291,
     "end_time": "2022-07-14T22:36:19.821791",
     "exception": false,
     "start_time": "2022-07-14T22:36:17.553500",
     "status": "completed"
    },
    "scrolled": true,
    "tags": []
   },
   "outputs": [
    {
     "name": "stdout",
     "output_type": "stream",
     "text": [
      "remove image: /kaggle/working/Images/n02105855-Shetland_sheepdog/n02105855_2933.jpg\n"
     ]
    }
   ],
   "source": [
    "class ImgDir:\n",
    "  def __init__(self,root,seed):\n",
    "    self.root             = root\n",
    "    self.test_dir         = self.root / '../Images-test/'\n",
    "    self.dev_dir          = self.root / '../Images-dev/'\n",
    "    self.dev_test_dir     = self.root / '../Images-tst-dev/'\n",
    "\n",
    "    self.all_images       = lambda : list(self.root.glob('*/*.jpg'))\n",
    "    self.images           = lambda dir: dir.glob('*.jpg')\n",
    "    self.rm               = lambda dir: shutil.rmtree(dir) if (dir is not None and dir.exists()) else None\n",
    "    self.image_count      = lambda dir: len(list(self.images(dir)))  \n",
    "    self.breed_annotation = {t[2]:t[1] for t in [ re.split('(n[0-9]*)-(.*)',dir.name) for dir in self.root.iterdir()]}\n",
    "    self.breed_dir        = lambda breed: self.root / f\"{self.breed_annotation[breed]}-{breed}\"\\\n",
    "                               if self.breed_annotation.get(breed) is not None\\\n",
    "                               else None\n",
    "    self.breeds           = list(self.breed_annotation.keys())\n",
    "    self.random_from_list = lambda l: l[random.randrange(0,len(l))]\n",
    "    \n",
    "    # generate seed for each breed\n",
    "    N = 1000\n",
    "    self.seeds = {breed: random.randrange(N) for breed in self.breeds}\n",
    "    self.seeds['dev'] = random.randrange(N)\n",
    "\n",
    "  def clean(self,dir):\n",
    "    self.rm(dir)\n",
    "    os.mkdir(dir)\n",
    "\n",
    "  def path(self,id='random',breed=None):\n",
    "    if id == 'random' and breed is None:\n",
    "      return self.random_from_list(list(self.all_images()))\n",
    "    elif breed is not None:\n",
    "      dir = self.breed_dir(breed)\n",
    "      if dir is None:\n",
    "        print(f'unknown breed: {breed}')\n",
    "        return\n",
    "      else:\n",
    "        if id == 'random':\n",
    "          return self.random_from_list(list(self.images(dir)))\n",
    "        else:\n",
    "            l= list(self.root.glob(f'*{breed}/*_{id}.jpg'))\n",
    "            if len(l) > 0:\n",
    "              return l[0]\n",
    "            else:\n",
    "              print(f\"can't find img with id {id} for {breed}\")\n",
    "    else:\n",
    "      l= list(self.root.glob(f'*/*_{id}.jpg'))\n",
    "      if len(l) > 0:\n",
    "        return l\n",
    "      else:\n",
    "        print(f\"can't find img with id {id}\")\n",
    "  \n",
    "  def breed_samples(self,breed,p):\n",
    "    prop = lambda p,n: math.floor(p*n) if math.floor(p*n) > 0 else math.ceil(p*n)\n",
    "    # images for the given breed\n",
    "    imgs = list(self.images(self.breed_dir(breed)))\n",
    "    n = len(imgs)\n",
    "    #set seed\n",
    "    random.seed(self.seeds[breed])\n",
    "    #select images randomly\n",
    "    r = range(n)\n",
    "    k = prop(n,p)\n",
    "    return [imgs[i] for i in random.sample(r,k)]\n",
    "  \n",
    "  def dst_dir(self,root_dst,breed):\n",
    "    bdir = self.breed_dir(breed).parts[-1]\n",
    "    return root_dst / bdir\n",
    "  \n",
    "  #def test_samples(self,root_dst,p):\n",
    "  #  for breed in self.breeds:\n",
    "  #    # dest dir for the given breed\n",
    "  #    ddir = self.dst_dir(root_dst,breed)\n",
    "  #    os.mkdir(ddir)\n",
    "  #    for f in self.breed_samples(breed,p):\n",
    "  #      shutil.move(src=str(f),dst=str(ddir))\n",
    "\n",
    "  def test_samples(self,p,force=False,root_dst=None):\n",
    "    if self.test_dir.exists() and force == False:\n",
    "      print(\"NO test sampling executed\")\n",
    "    else:\n",
    "      #self.test_dir = root_dst if root_dst is not None else self.test_dir\n",
    "      self.clean(self.test_dir)\n",
    "      for breed in self.breeds:\n",
    "        # dest dir for the given breed\n",
    "        ddir = self.dst_dir(self.test_dir,breed)\n",
    "        os.mkdir(ddir)\n",
    "        for f in self.breed_samples(breed,p):\n",
    "          shutil.move(src=str(f),dst=str(ddir))\n",
    "      print(\"Test sampling executed\")\n",
    "\n",
    "  def dev_samples(self,num_class,force=False):\n",
    "    if self.dev_dir.exists() and self.dev_test_dir.exists() and force == False:\n",
    "      print(\"NO dev sampling executed\")\n",
    "    else:    \n",
    "      random.seed(self.seeds['dev'])\n",
    "      selected_breeds  = [self.random_from_list(self.breeds) for i in range(num_class)]\n",
    "      selected_dirs    = [ f\"{self.breed_annotation[breed]}-{breed}\" for breed in selected_breeds]\n",
    "      # create directories\n",
    "      self.clean(self.dev_dir)\n",
    "      self.clean(self.dev_test_dir)\n",
    "      for dir in selected_dirs:\n",
    "        # copy dev\n",
    "        #os.mkdir(self.dev_dir / dir)\n",
    "        shutil.copytree(self.root/dir,self.dev_dir/dir)\n",
    "        # copy test\n",
    "        #os.mkdir(self.dev_test_dir / dir,)\n",
    "        shutil.copytree(self.test_dir/dir, self.dev_test_dir/dir)\n",
    "      print(f\"Dev sampling executed - selected breeds: {selected_breeds}\")\n",
    "    \n",
    "img_dir = ImgDir(IMG_PATH,SEED)\n",
    "\n",
    "# Remove RGBA picture\n",
    "img_open = lambda p: PIL.Image.open(str(p),'r')\n",
    "img_info = lambda img,info: {'mode':img.mode,'height':img.height,'width':img.width}[info]\n",
    "\n",
    "for p in img_dir.all_images():\n",
    "  if img_info(img_open(p),'mode') == 'RGBA':\n",
    "    print(f\"remove image: {p}\")\n",
    "    p.unlink()"
   ]
  },
  {
   "cell_type": "markdown",
   "id": "a590a546",
   "metadata": {
    "id": "elxfOEw5vgIo",
    "papermill": {
     "duration": 0.017218,
     "end_time": "2022-07-14T22:36:19.857750",
     "exception": false,
     "start_time": "2022-07-14T22:36:19.840532",
     "status": "completed"
    },
    "tags": []
   },
   "source": [
    "#### Create test and dev samples"
   ]
  },
  {
   "cell_type": "code",
   "execution_count": 7,
   "id": "964b7247",
   "metadata": {
    "execution": {
     "iopub.execute_input": "2022-07-14T22:36:19.894121Z",
     "iopub.status.busy": "2022-07-14T22:36:19.893729Z",
     "iopub.status.idle": "2022-07-14T22:36:22.869455Z",
     "shell.execute_reply": "2022-07-14T22:36:22.868126Z"
    },
    "executionInfo": {
     "elapsed": 418,
     "status": "ok",
     "timestamp": 1657726264694,
     "user": {
      "displayName": "Benjamin Bouchard",
      "userId": "02575701693408586470"
     },
     "user_tz": -120
    },
    "id": "1plJniIKUjnx",
    "outputId": "24a8a26d-c1c0-446a-e5ef-cdd11eaf5658",
    "papermill": {
     "duration": 2.996484,
     "end_time": "2022-07-14T22:36:22.872016",
     "exception": false,
     "start_time": "2022-07-14T22:36:19.875532",
     "status": "completed"
    },
    "tags": []
   },
   "outputs": [
    {
     "name": "stdout",
     "output_type": "stream",
     "text": [
      "Test sampling executed\n",
      "Dev sampling executed - selected breeds: ['French_bulldog', 'Yorkshire_terrier', 'bluetick']\n",
      "18570\r\n",
      "2009\r\n",
      "446\r\n",
      "48\r\n"
     ]
    }
   ],
   "source": [
    "img_dir.test_samples(TEST_SIZE,FORCE_TEST_SAMPLING)\n",
    "img_dir.dev_samples(NUM_CLASSES2,FORCE_DEV_SAMPLING)\n",
    "\n",
    "! find /kaggle/working/Images/ -type f | wc -l\n",
    "! find /kaggle/working/Images-test/ -type f | wc -l\n",
    "! find /kaggle/working/Images-dev/ -type f | wc -l\n",
    "! find /kaggle/working/Images-tst-dev/ -type f | wc -l"
   ]
  },
  {
   "cell_type": "markdown",
   "id": "70b3329a",
   "metadata": {
    "id": "N2CkBpW3-06O",
    "papermill": {
     "duration": 0.01066,
     "end_time": "2022-07-14T22:36:22.893439",
     "exception": false,
     "start_time": "2022-07-14T22:36:22.882779",
     "status": "completed"
    },
    "tags": []
   },
   "source": [
    "### Datasets"
   ]
  },
  {
   "cell_type": "markdown",
   "id": "a2427ef6",
   "metadata": {
    "id": "D3lK3Oeb0APK",
    "papermill": {
     "duration": 0.010065,
     "end_time": "2022-07-14T22:36:22.913626",
     "exception": false,
     "start_time": "2022-07-14T22:36:22.903561",
     "status": "completed"
    },
    "tags": []
   },
   "source": [
    "#### Preprocess layers"
   ]
  },
  {
   "cell_type": "code",
   "execution_count": 8,
   "id": "dc227de9",
   "metadata": {
    "execution": {
     "iopub.execute_input": "2022-07-14T22:36:22.936348Z",
     "iopub.status.busy": "2022-07-14T22:36:22.936024Z",
     "iopub.status.idle": "2022-07-14T22:36:25.880561Z",
     "shell.execute_reply": "2022-07-14T22:36:25.879534Z"
    },
    "papermill": {
     "duration": 2.959447,
     "end_time": "2022-07-14T22:36:25.883896",
     "exception": false,
     "start_time": "2022-07-14T22:36:22.924449",
     "status": "completed"
    },
    "tags": []
   },
   "outputs": [
    {
     "name": "stderr",
     "output_type": "stream",
     "text": [
      "2022-07-14 22:36:23.043070: I tensorflow/stream_executor/cuda/cuda_gpu_executor.cc:937] successful NUMA node read from SysFS had negative value (-1), but there must be at least one NUMA node, so returning NUMA node zero\n",
      "2022-07-14 22:36:23.145756: I tensorflow/stream_executor/cuda/cuda_gpu_executor.cc:937] successful NUMA node read from SysFS had negative value (-1), but there must be at least one NUMA node, so returning NUMA node zero\n",
      "2022-07-14 22:36:23.146538: I tensorflow/stream_executor/cuda/cuda_gpu_executor.cc:937] successful NUMA node read from SysFS had negative value (-1), but there must be at least one NUMA node, so returning NUMA node zero\n",
      "2022-07-14 22:36:23.148600: I tensorflow/core/platform/cpu_feature_guard.cc:142] This TensorFlow binary is optimized with oneAPI Deep Neural Network Library (oneDNN) to use the following CPU instructions in performance-critical operations:  AVX2 AVX512F FMA\n",
      "To enable them in other operations, rebuild TensorFlow with the appropriate compiler flags.\n",
      "2022-07-14 22:36:23.149039: I tensorflow/stream_executor/cuda/cuda_gpu_executor.cc:937] successful NUMA node read from SysFS had negative value (-1), but there must be at least one NUMA node, so returning NUMA node zero\n",
      "2022-07-14 22:36:23.150060: I tensorflow/stream_executor/cuda/cuda_gpu_executor.cc:937] successful NUMA node read from SysFS had negative value (-1), but there must be at least one NUMA node, so returning NUMA node zero\n",
      "2022-07-14 22:36:23.151067: I tensorflow/stream_executor/cuda/cuda_gpu_executor.cc:937] successful NUMA node read from SysFS had negative value (-1), but there must be at least one NUMA node, so returning NUMA node zero\n",
      "2022-07-14 22:36:25.537430: I tensorflow/stream_executor/cuda/cuda_gpu_executor.cc:937] successful NUMA node read from SysFS had negative value (-1), but there must be at least one NUMA node, so returning NUMA node zero\n",
      "2022-07-14 22:36:25.538391: I tensorflow/stream_executor/cuda/cuda_gpu_executor.cc:937] successful NUMA node read from SysFS had negative value (-1), but there must be at least one NUMA node, so returning NUMA node zero\n",
      "2022-07-14 22:36:25.539117: I tensorflow/stream_executor/cuda/cuda_gpu_executor.cc:937] successful NUMA node read from SysFS had negative value (-1), but there must be at least one NUMA node, so returning NUMA node zero\n",
      "2022-07-14 22:36:25.539773: I tensorflow/core/common_runtime/gpu/gpu_device.cc:1510] Created device /job:localhost/replica:0/task:0/device:GPU:0 with 15403 MB memory:  -> device: 0, name: Tesla P100-PCIE-16GB, pci bus id: 0000:00:04.0, compute capability: 6.0\n"
     ]
    }
   ],
   "source": [
    "def select_dim(i,s):\n",
    "  tmp = np.zeros(shape=s)\n",
    "  tmp[:,:,i] = 1.0\n",
    "  return tmp\n",
    "\n",
    "def equalize(img):\n",
    "    #print(f\"shape: {img.shape} {type(img)}\")\n",
    "    s = img.shape\n",
    "    for i in range(3):\n",
    "      img[:,:,i] = exposure.equalize_hist(img,mask=select_dim(i,s))[:,:,i]\n",
    "    return img\n",
    "\n",
    "@tf.function (input_signature=[tf.TensorSpec(shape=(None,None,3), dtype=tf.float32)])\n",
    "def tf_equalize(img):\n",
    "  with tf.init_scope():\n",
    "    return equalize(img.numpy())\n",
    "\n",
    "class Equalize(tf.keras.layers.Layer):\n",
    "    def __init__(self,**kwargs):\n",
    "      super(Equalize, self).__init__(**kwargs)\n",
    "\n",
    "    def call(self, inputs,train=False):\n",
    "        return tf_equalize(inputs)\n",
    "    \n",
    "    def compute_output_signature(self,input_signature):\n",
    "      return input_signature\n",
    "\n",
    "#rescale\n",
    "rescale_layer = tf.keras.layers.Rescaling(scale=(1./255))\n",
    "rescale = lambda ds: ds.map( lambda x, y: (rescale_layer(x), y))\n",
    "\n",
    "#equalize layer\n",
    "equalize_layer = Equalize()\n",
    "eq = lambda ds: ds.map( lambda x, y: (equalize_layer(x), y))\n",
    "\n",
    "# data augmentation\n",
    "data_augmentation = tf.keras.Sequential([\n",
    "  tf.keras.layers.RandomContrast(factor=0.2),\n",
    "  tf.keras.layers.RandomFlip(\"horizontal_and_vertical\"),\n",
    "  tf.keras.layers.RandomRotation(factor=0.2,fill_mode='nearest'),\n",
    "  tf.keras.layers.RandomZoom(height_factor=0.2,width_factor=0.2,fill_mode='nearest'),\n",
    "  tf.keras.layers.RandomTranslation(height_factor=0.2,width_factor=0.2,fill_mode='nearest')\n",
    "])\n",
    "aug_ds = lambda ds: ds.map( lambda x, y: ( data_augmentation(x), y) )\n",
    "\n",
    "# apply_preprocess\n",
    "def apply_preprocess(preprocesses,dss):\n",
    "  tmp = dss\n",
    "  for preprocess in preprocesses:\n",
    "    tmp = list(map(preprocess,tmp))\n",
    "  return tmp\n",
    "\n",
    "#performance\n",
    "def configure_for_performance(ds):\n",
    "  #ds = ds.cache() (OOM)\n",
    "  ds = ds.prefetch(buffer_size=tf.data.AUTOTUNE)\n",
    "  return ds\n",
    "\n",
    "perf = lambda dss: list(map(configure_for_performance,dss))\n"
   ]
  },
  {
   "cell_type": "markdown",
   "id": "40e6a34b",
   "metadata": {
    "id": "aPgpRZuD4dZY",
    "papermill": {
     "duration": 0.010252,
     "end_time": "2022-07-14T22:36:25.906499",
     "exception": false,
     "start_time": "2022-07-14T22:36:25.896247",
     "status": "completed"
    },
    "tags": []
   },
   "source": [
    "#### function dataset_from_dir"
   ]
  },
  {
   "cell_type": "code",
   "execution_count": 9,
   "id": "a73ee743",
   "metadata": {
    "execution": {
     "iopub.execute_input": "2022-07-14T22:36:25.929192Z",
     "iopub.status.busy": "2022-07-14T22:36:25.928424Z",
     "iopub.status.idle": "2022-07-14T22:36:25.939967Z",
     "shell.execute_reply": "2022-07-14T22:36:25.939055Z"
    },
    "executionInfo": {
     "elapsed": 305,
     "status": "ok",
     "timestamp": 1657726292930,
     "user": {
      "displayName": "Benjamin Bouchard",
      "userId": "02575701693408586470"
     },
     "user_tz": -120
    },
    "id": "2d5g6hvA4voF",
    "papermill": {
     "duration": 0.025405,
     "end_time": "2022-07-14T22:36:25.942261",
     "exception": false,
     "start_time": "2022-07-14T22:36:25.916856",
     "status": "completed"
    },
    "tags": []
   },
   "outputs": [],
   "source": [
    "# resizing is part of the dataset definition. So will be automatically used for \n",
    "# fitting. will need to add that to preprocessing layer when using the model\n",
    "def dataset_from_dir(dir,\n",
    "                     subsets = [\"training\",\"validation\"],\n",
    "                     validation_split=VAL_SIZE,\n",
    "                     batch_size=BATCH_SIZE,\n",
    "                     image_size=IMG_SIZE,\n",
    "                     ):\n",
    "  return list(map(\n",
    "    lambda subset: tf.keras.utils.image_dataset_from_directory(\n",
    "                                                    directory=dir,\n",
    "                                                    labels='inferred',\n",
    "                                                    label_mode='categorical',\n",
    "                                                    class_names=None,\n",
    "                                                    color_mode='rgb',\n",
    "                                                    batch_size=batch_size,\n",
    "                                                    image_size=image_size,\n",
    "                                                    shuffle=True,\n",
    "                                                    seed=SEED,\n",
    "                                                    validation_split=validation_split,\n",
    "                                                    subset=subset,\n",
    "                                                    interpolation='bilinear',\n",
    "                                                    follow_links=False,\n",
    "                                                    crop_to_aspect_ratio=False\n",
    "                                                  ),\n",
    "                    subsets\n",
    "    ))\n",
    "\n",
    "\n",
    "#\n",
    "#  get_data_sets\n",
    "#\n",
    "def get_data_sets(train_actions,tst_val_actions,pref=True,dev=False,ret='tuple'):\n",
    "\n",
    "  do_perf = lambda dss: perf(dss) if pref is True else dss\n",
    "                             \n",
    "  if  dev is True:\n",
    "    (train_ds,val_ds) = dataset_from_dir(I_PATH2)\n",
    "    (test_ds,) = dataset_from_dir(T_PATH2,subsets=[None],validation_split=None)\n",
    "  else:\n",
    "    (train_ds,val_ds) = dataset_from_dir(I_PATH)\n",
    "    (test_ds,) = dataset_from_dir(T_PATH,subsets=[None],validation_split=None)\n",
    "\n",
    "  if train_actions is not None:\n",
    "   [train_ds] = apply_preprocess(train_actions,do_perf([train_ds]))\n",
    "\n",
    "  if tst_val_actions is not None:\n",
    "    [val_ds,test_ds] = apply_preprocess(tst_val_actions,do_perf([val_ds,test_ds]))\n",
    "\n",
    "  if ret == 'dict':\n",
    "    return {'train_ds':train_ds,'val_ds':val_ds,'test_ds':test_ds}\n",
    "  else:\n",
    "    return (train_ds,val_ds,test_ds)\n"
   ]
  },
  {
   "cell_type": "markdown",
   "id": "9380de92",
   "metadata": {
    "id": "PHxOCtHv60Bo",
    "papermill": {
     "duration": 0.010215,
     "end_time": "2022-07-14T22:36:25.963250",
     "exception": false,
     "start_time": "2022-07-14T22:36:25.953035",
     "status": "completed"
    },
    "tags": []
   },
   "source": [
    "### Train models"
   ]
  },
  {
   "cell_type": "markdown",
   "id": "a43fa099",
   "metadata": {
    "id": "MMVaQa5cbXjb",
    "papermill": {
     "duration": 0.01001,
     "end_time": "2022-07-14T22:36:25.983624",
     "exception": false,
     "start_time": "2022-07-14T22:36:25.973614",
     "status": "completed"
    },
    "tags": []
   },
   "source": [
    "#### Common definitions"
   ]
  },
  {
   "cell_type": "markdown",
   "id": "9c276808",
   "metadata": {
    "id": "kcdepiXQ4-Cl",
    "papermill": {
     "duration": 0.010292,
     "end_time": "2022-07-14T22:36:26.004358",
     "exception": false,
     "start_time": "2022-07-14T22:36:25.994066",
     "status": "completed"
    },
    "tags": []
   },
   "source": [
    "##### hyper-model and hyper-parameters"
   ]
  },
  {
   "cell_type": "code",
   "execution_count": 10,
   "id": "2ff56afb",
   "metadata": {
    "execution": {
     "iopub.execute_input": "2022-07-14T22:36:26.026166Z",
     "iopub.status.busy": "2022-07-14T22:36:26.025848Z",
     "iopub.status.idle": "2022-07-14T22:36:26.034622Z",
     "shell.execute_reply": "2022-07-14T22:36:26.033667Z"
    },
    "executionInfo": {
     "elapsed": 554,
     "status": "ok",
     "timestamp": 1657726325337,
     "user": {
      "displayName": "Benjamin Bouchard",
      "userId": "02575701693408586470"
     },
     "user_tz": -120
    },
    "id": "zgalnxbH721c",
    "papermill": {
     "duration": 0.021965,
     "end_time": "2022-07-14T22:36:26.036591",
     "exception": false,
     "start_time": "2022-07-14T22:36:26.014626",
     "status": "completed"
    },
    "tags": []
   },
   "outputs": [],
   "source": [
    "# hyperparameters accesssors according to mode\n",
    "def rate_i(hp,mode,i,v):\n",
    "  rate_name = f\"rate_{str(i)}\"\n",
    "  if mode == \"tune\":\n",
    "    #return  hp.Choice(name = rate_name, values = v)\n",
    "    return  hp.Float(name = rate_name, min_value=v[0], max_value=v[1], sampling=\"linear\")\n",
    "  else:\n",
    "    return  hp.get(name = rate_name)\n",
    "\n",
    "def learning_rate(hp,mode):\n",
    "  if mode == \"tune\":\n",
    "    return hp.Float(\"lr\", min_value=1e-4, max_value=1e-2, sampling=\"log\")\n",
    "  else:\n",
    "    return hp.get(\"lr\")\n",
    "\n",
    "def activation(hp,mode,i):\n",
    "  if mode == \"tune\":\n",
    "    return hp.Choice(f\"act_{i}\", values = ['relu','tanh'])\n",
    "  else:\n",
    "    return hp.get(f\"act_{i}\")\n",
    "\n",
    "# hyper model\n",
    "def hyper_model_gen(hp,model_name,mode,num_classes,models):\n",
    "\n",
    "  model = (models.get(model_name))(hp,mode,num_classes)\n",
    "\n",
    "  if model is None:\n",
    "    raise Exception(f\"Unknown model {model_name}\")\n",
    "\n",
    "  return model\n"
   ]
  },
  {
   "cell_type": "markdown",
   "id": "40595b94",
   "metadata": {
    "id": "2O6T-ruQ6mPg",
    "papermill": {
     "duration": 0.01032,
     "end_time": "2022-07-14T22:36:26.057328",
     "exception": false,
     "start_time": "2022-07-14T22:36:26.047008",
     "status": "completed"
    },
    "tags": []
   },
   "source": [
    "##### Définition des layers"
   ]
  },
  {
   "cell_type": "code",
   "execution_count": 11,
   "id": "7decab8c",
   "metadata": {
    "execution": {
     "iopub.execute_input": "2022-07-14T22:36:26.080538Z",
     "iopub.status.busy": "2022-07-14T22:36:26.079793Z",
     "iopub.status.idle": "2022-07-14T22:36:26.086561Z",
     "shell.execute_reply": "2022-07-14T22:36:26.085567Z"
    },
    "executionInfo": {
     "elapsed": 16,
     "status": "ok",
     "timestamp": 1657726325775,
     "user": {
      "displayName": "Benjamin Bouchard",
      "userId": "02575701693408586470"
     },
     "user_tz": -120
    },
    "id": "Akh7YPIetRLg",
    "papermill": {
     "duration": 0.020917,
     "end_time": "2022-07-14T22:36:26.088775",
     "exception": false,
     "start_time": "2022-07-14T22:36:26.067858",
     "status": "completed"
    },
    "tags": []
   },
   "outputs": [],
   "source": [
    "# convolution_relu \n",
    "convolution_relu = functools.partial(tf.keras.layers.Conv2D, kernel_size=3, activation='relu', padding=\"same\")\n",
    "# convolution \n",
    "convolution = functools.partial(tf.keras.layers.Conv2D, kernel_size=3, padding=\"same\")\n",
    "# max_pooling\n",
    "max_pooling = functools.partial(tf.keras.layers.MaxPooling2D, pool_size=(2,2), strides=(2,2))\n",
    "# fully_connected\n",
    "fully_connected = functools.partial(tf.keras.layers.Dense,units=4096, activation='relu')\n",
    "# fully_connected\n",
    "hp_fully_connected = functools.partial(tf.keras.layers.Dense,units=4096)\n",
    "# soft_max\n",
    "soft_max = functools.partial(tf.keras.layers.Dense, activation = 'softmax')"
   ]
  },
  {
   "cell_type": "markdown",
   "id": "ef945853",
   "metadata": {
    "id": "78_4s_Lkbv7E",
    "papermill": {
     "duration": 0.010548,
     "end_time": "2022-07-14T22:36:26.109641",
     "exception": false,
     "start_time": "2022-07-14T22:36:26.099093",
     "status": "completed"
    },
    "tags": []
   },
   "source": [
    "##### Check points and directory related functions"
   ]
  },
  {
   "cell_type": "code",
   "execution_count": 12,
   "id": "056e644b",
   "metadata": {
    "execution": {
     "iopub.execute_input": "2022-07-14T22:36:26.131830Z",
     "iopub.status.busy": "2022-07-14T22:36:26.131578Z",
     "iopub.status.idle": "2022-07-14T22:36:26.137746Z",
     "shell.execute_reply": "2022-07-14T22:36:26.136767Z"
    },
    "executionInfo": {
     "elapsed": 16,
     "status": "ok",
     "timestamp": 1657726325777,
     "user": {
      "displayName": "Benjamin Bouchard",
      "userId": "02575701693408586470"
     },
     "user_tz": -120
    },
    "id": "lAFAJ9JB3M7k",
    "papermill": {
     "duration": 0.01928,
     "end_time": "2022-07-14T22:36:26.139711",
     "exception": false,
     "start_time": "2022-07-14T22:36:26.120431",
     "status": "completed"
    },
    "tags": []
   },
   "outputs": [],
   "source": [
    "my_time_stamp = lambda : f'{datetime.datetime.now().strftime(\"%Y%m%d-%H%M%S\")}'\n",
    "log_dir       = lambda name: str( LOG_PATH / f'{name}_{my_time_stamp()}')\n",
    "model_file    = lambda name: f\"{name}.h5\" if DEV is False else f\"{name}_{my_time_stamp()}_dev.h5\"\n",
    "model_path    = lambda name: str(P6_PATH / f'models/{model_file(name)}')\n",
    "\n",
    "#https://keras.io/api/callbacks/model_checkpoint/\n",
    "#checkpoint\n",
    "checkpoint = functools.partial(tf.keras.callbacks.ModelCheckpoint,monitor='val_accuracy',mode='max',save_best_only=True,verbose=1)\n",
    "mk_checkpoint_cb = lambda path: checkpoint(filepath=path)\n",
    "\n",
    "#tensorboard (OOM)\n",
    "# mk_tensorboard_cb = lambda name: tf.keras.callbacks.TensorBoard(log_dir=log_dir(name), histogram_freq=1)"
   ]
  },
  {
   "cell_type": "markdown",
   "id": "c284fc08",
   "metadata": {
    "id": "SihvkDAbeZNM",
    "papermill": {
     "duration": 0.010023,
     "end_time": "2022-07-14T22:36:26.160096",
     "exception": false,
     "start_time": "2022-07-14T22:36:26.150073",
     "status": "completed"
    },
    "tags": []
   },
   "source": [
    "##### fit_and_evaluate | tune_fit_and_evaluate"
   ]
  },
  {
   "cell_type": "code",
   "execution_count": 13,
   "id": "94a7f8b6",
   "metadata": {
    "execution": {
     "iopub.execute_input": "2022-07-14T22:36:26.182314Z",
     "iopub.status.busy": "2022-07-14T22:36:26.182046Z",
     "iopub.status.idle": "2022-07-14T22:36:26.196271Z",
     "shell.execute_reply": "2022-07-14T22:36:26.195455Z"
    },
    "executionInfo": {
     "elapsed": 15,
     "status": "ok",
     "timestamp": 1657726325778,
     "user": {
      "displayName": "Benjamin Bouchard",
      "userId": "02575701693408586470"
     },
     "user_tz": -120
    },
    "id": "GZBoR_Ff4fl1",
    "papermill": {
     "duration": 0.027647,
     "end_time": "2022-07-14T22:36:26.198122",
     "exception": false,
     "start_time": "2022-07-14T22:36:26.170475",
     "status": "completed"
    },
    "tags": []
   },
   "outputs": [],
   "source": [
    "def fit_and_evaluate(model,model_name,train_ds,val_ds,test_ds,patience=5,min_delta=0.001,max_epochs=100):\n",
    "  \n",
    "  #callbacks\n",
    "  m_path_str        = model_path(model_name)\n",
    "  #checkpoint_cb     = mk_checkpoint_cb(m_path_str)\n",
    "  early_stopping_cb = tf.keras.callbacks.EarlyStopping(monitor='val_accuracy',mode='max',patience=patience,min_delta=min_delta,restore_best_weights=True,verbose=1) \n",
    "  callbacks         = [early_stopping_cb,livelossplot.PlotLossesKeras()] # checkpoint_cb,\n",
    "  \n",
    "  #fit model\n",
    "  history = model.fit(\n",
    "                  x=train_ds,\n",
    "                  epochs=max_epochs,\n",
    "                  steps_per_epoch=None,\n",
    "                  validation_data=val_ds,\n",
    "                  callbacks=callbacks)\n",
    "  \n",
    "  # load best model\n",
    "  best_model = None\n",
    "  if(Path(m_path_str).exists()):\n",
    "    print(f\"\\n===== Load best model from: {m_path_str} =====\\n\")\n",
    "    best_model= tf.keras.models.load_model(m_path_str,custom_objects={'Equalize':Equalize})\n",
    "  else:\n",
    "    best_model = model\n",
    "\n",
    "  #evalute\n",
    "  evaluation = best_model.evaluate(test_ds)\n",
    "  print(\"\\n===== EVALUATE =====\\n\")\n",
    "  print(f\"test loss, test acc: {evaluation}\")\n",
    "  print(\"\\n====================\\n\")\n",
    "  \n",
    "  # display model\n",
    "  fig = tf.keras.utils.plot_model(best_model, to_file=f'/kaggle/working/{model_name}.png', show_shapes=True)\n",
    "    \n",
    "  #\n",
    "  return (history,evaluation,trainableParams(best_model),fig)\n",
    "\n",
    "\n",
    "def tune_fit_and_evaluate(hyper_model,model_name,train_ds,val_ds,test_ds,\n",
    "                          tune_patience=3,tune_min_delta=10,tune_max_epochs=3,\n",
    "                          fit_patience=5,fit_min_delta=0.001,fit_max_epochs=100):\n",
    "  \n",
    "  #tuner\n",
    "  tuner = keras_tuner.Hyperband(\n",
    "      hypermodel=functools.partial(hyper_model,model_name=model_name,mode=\"tune\"),\n",
    "      objective = keras_tuner.Objective(\"accuracy\", direction=\"max\"),\n",
    "      max_epochs=tune_max_epochs,\n",
    "      directory= str(TUNER_PATH),\n",
    "      project_name = model_name\n",
    "  )\n",
    "\n",
    "  #callbacks\n",
    "  early_stopping_cb = tf.keras.callbacks.EarlyStopping(monitor='val_accuracy',mode='max',patience=tune_patience,min_delta=tune_min_delta,restore_best_weights=True,verbose=1)\n",
    "  callbacks         = [early_stopping_cb]\n",
    "\n",
    "  # hyperparameters tuning                     \n",
    "  tuner.search(**{'x':train_ds,'validation_data':val_ds,'callbacks':callbacks,'epochs':tune_max_epochs})\n",
    "\n",
    "  # model with best hyper parameters\n",
    "  best_hp = tuner.get_best_hyperparameters()[0]\n",
    "  #print(f\"Best hyper parameters: {best_hp}\")\n",
    "  model = functools.partial(hyper_model,model_name=model_name,mode=\"fit\")(hp=best_hp)\n",
    "\n",
    "  #fit and evaluate model with best hyper-parameters\n",
    "  return fit_and_evaluate(model=model,model_name=model_name,\n",
    "                          train_ds=train_ds,val_ds=val_ds,test_ds=test_ds,\n",
    "                          patience=fit_patience,min_delta=fit_min_delta,max_epochs=fit_max_epochs\n",
    "                          )"
   ]
  },
  {
   "cell_type": "markdown",
   "id": "01b461f5",
   "metadata": {
    "id": "jJOf1SPcXLCw",
    "papermill": {
     "duration": 0.010987,
     "end_time": "2022-07-14T22:36:26.219351",
     "exception": false,
     "start_time": "2022-07-14T22:36:26.208364",
     "status": "completed"
    },
    "tags": []
   },
   "source": [
    "#### Transfert learning"
   ]
  },
  {
   "cell_type": "code",
   "execution_count": 14,
   "id": "d4b0474b",
   "metadata": {
    "execution": {
     "iopub.execute_input": "2022-07-14T22:36:26.241311Z",
     "iopub.status.busy": "2022-07-14T22:36:26.241057Z",
     "iopub.status.idle": "2022-07-14T22:36:26.248531Z",
     "shell.execute_reply": "2022-07-14T22:36:26.247597Z"
    },
    "executionInfo": {
     "elapsed": 302,
     "status": "ok",
     "timestamp": 1657728712572,
     "user": {
      "displayName": "Benjamin Bouchard",
      "userId": "02575701693408586470"
     },
     "user_tz": -120
    },
    "id": "S1YbSt9-XSDg",
    "papermill": {
     "duration": 0.020797,
     "end_time": "2022-07-14T22:36:26.250495",
     "exception": false,
     "start_time": "2022-07-14T22:36:26.229698",
     "status": "completed"
    },
    "tags": []
   },
   "outputs": [],
   "source": [
    "def compose_layers(in_,out_):\n",
    "   return tf.keras.Model(inputs=in_.input,outputs=out_(in_.output))\n",
    "\n",
    "def get_pretrained_model(model_gen,preprocess):\n",
    "  # include_top=false ==> remove dense layer of the model\n",
    "  base_model = model_gen(weights=\"imagenet\", include_top=False, input_shape=IMG_SIZE + (3,))\n",
    "\n",
    "  #disable training\n",
    "  for layer in base_model.layers:\n",
    "      layer.trainable = False\n",
    "\n",
    "  # add preprocess layer\n",
    "  i = tf.keras.layers.Input([None, None, 3], dtype = tf.uint8)\n",
    "  x = tf.cast(i, tf.float32)\n",
    "\n",
    "  x = preprocess(x)\n",
    "\n",
    "  x = base_model(x)\n",
    "\n",
    "  model = tf.keras.Model(inputs=[i], outputs=[x])\n",
    "\n",
    "  return model"
   ]
  },
  {
   "cell_type": "markdown",
   "id": "02e93dd2",
   "metadata": {
    "papermill": {
     "duration": 0.010368,
     "end_time": "2022-07-14T22:36:26.271409",
     "exception": false,
     "start_time": "2022-07-14T22:36:26.261041",
     "status": "completed"
    },
    "tags": []
   },
   "source": [
    "#### Datasets"
   ]
  },
  {
   "cell_type": "code",
   "execution_count": 15,
   "id": "0a7ae38b",
   "metadata": {
    "execution": {
     "iopub.execute_input": "2022-07-14T22:36:26.294351Z",
     "iopub.status.busy": "2022-07-14T22:36:26.293609Z",
     "iopub.status.idle": "2022-07-14T22:36:28.126156Z",
     "shell.execute_reply": "2022-07-14T22:36:28.125171Z"
    },
    "papermill": {
     "duration": 1.846004,
     "end_time": "2022-07-14T22:36:28.128536",
     "exception": false,
     "start_time": "2022-07-14T22:36:26.282532",
     "status": "completed"
    },
    "tags": []
   },
   "outputs": [
    {
     "name": "stdout",
     "output_type": "stream",
     "text": [
      "Found 18570 files belonging to 120 classes.\n",
      "Using 15785 files for training.\n"
     ]
    },
    {
     "name": "stderr",
     "output_type": "stream",
     "text": [
      "/opt/conda/lib/python3.7/site-packages/tensorflow/python/data/ops/dataset_ops.py:4212: UserWarning: Even though the `tf.config.experimental_run_functions_eagerly` option is set, this option does not apply to tf.data functions. To force eager execution of tf.data functions, please use `tf.data.experimental.enable_debug_mode()`.\n",
      "  \"Even though the `tf.config.experimental_run_functions_eagerly` \"\n"
     ]
    },
    {
     "name": "stdout",
     "output_type": "stream",
     "text": [
      "Found 18570 files belonging to 120 classes.\n",
      "Using 2785 files for validation.\n",
      "Found 2009 files belonging to 120 classes.\n"
     ]
    }
   ],
   "source": [
    "(train_ds,val_ds,test_ds) = get_data_sets(train_actions=[aug_ds],tst_val_actions=[],pref=True,dev=False,ret='tuple')\n",
    "nb_classes = NUM_CLASSES"
   ]
  },
  {
   "cell_type": "markdown",
   "id": "83abcb2c",
   "metadata": {
    "papermill": {
     "duration": 0.011021,
     "end_time": "2022-07-14T22:36:28.150828",
     "exception": false,
     "start_time": "2022-07-14T22:36:28.139807",
     "status": "completed"
    },
    "tags": []
   },
   "source": [
    "#### Tune and Fit Resnet50 model"
   ]
  },
  {
   "cell_type": "markdown",
   "id": "0657fb41",
   "metadata": {
    "papermill": {
     "duration": 0.010667,
     "end_time": "2022-07-14T22:36:28.172334",
     "exception": false,
     "start_time": "2022-07-14T22:36:28.161667",
     "status": "completed"
    },
    "tags": []
   },
   "source": [
    "#### ResNet50"
   ]
  },
  {
   "cell_type": "code",
   "execution_count": 16,
   "id": "342d4527",
   "metadata": {
    "execution": {
     "iopub.execute_input": "2022-07-14T22:36:28.195800Z",
     "iopub.status.busy": "2022-07-14T22:36:28.195497Z",
     "iopub.status.idle": "2022-07-14T22:36:28.204339Z",
     "shell.execute_reply": "2022-07-14T22:36:28.203477Z"
    },
    "papermill": {
     "duration": 0.023144,
     "end_time": "2022-07-14T22:36:28.206287",
     "exception": false,
     "start_time": "2022-07-14T22:36:28.183143",
     "status": "completed"
    },
    "tags": []
   },
   "outputs": [],
   "source": [
    "def my_pretrained_resnet50(hp,mode,num_classes):\n",
    "    \n",
    "    #pretrained_resnet50\n",
    "    pretrained_resnet50 = get_pretrained_model(tfkapp.resnet50.ResNet50,tfkapp.resnet50.preprocess_input)\n",
    "\n",
    "    # preprocess_layers\n",
    "    preprocess_layer = tf.keras.models.Sequential(\n",
    "        name= \"preprocess_layer_resnet50\",\n",
    "        layers = [\n",
    "            tf.keras.Input(name=\"input\",shape=IMG_SIZE + (3,)),\n",
    "            Equalize(dynamic=True),  \n",
    "        ]\n",
    "    )\n",
    "\n",
    "    # dense_layers_1\n",
    "    dense_layers = tf.keras.models.Sequential(\n",
    "        name= \"dense_layers_resnet50\",\n",
    "        layers = [\n",
    "            tf.keras.layers.GlobalAveragePooling2D(),\n",
    "            tf.keras.layers.Dropout(rate=rate_i(hp,mode,0,[0.5,0.8])),\n",
    "            soft_max(units=num_classes)\n",
    "        ]\n",
    "    )\n",
    "\n",
    "    # compose\n",
    "    model = compose_layers(preprocess_layer,pretrained_resnet50)\n",
    "    model = compose_layers(model,dense_layers)\n",
    "\n",
    "    #compile\n",
    "    model.compile(loss=\"categorical_crossentropy\",\n",
    "        metrics=[\"accuracy\"], \n",
    "        optimizer=tf.keras.optimizers.RMSprop(learning_rate=learning_rate(hp,mode))\n",
    "    )\n",
    "\n",
    "    return model"
   ]
  },
  {
   "cell_type": "code",
   "execution_count": 17,
   "id": "f7df3d99",
   "metadata": {
    "execution": {
     "iopub.execute_input": "2022-07-14T22:36:28.228563Z",
     "iopub.status.busy": "2022-07-14T22:36:28.228275Z",
     "iopub.status.idle": "2022-07-15T04:03:58.307295Z",
     "shell.execute_reply": "2022-07-15T04:03:58.306085Z"
    },
    "papermill": {
     "duration": 19650.092669,
     "end_time": "2022-07-15T04:03:58.309455",
     "exception": false,
     "start_time": "2022-07-14T22:36:28.216786",
     "status": "completed"
    },
    "tags": []
   },
   "outputs": [
    {
     "data": {
      "image/png": "[encoded data removed]",
      "text/plain": [
       "<Figure size 864x576 with 2 Axes>"
      ]
     },
     "metadata": {
      "needs_background": "light"
     },
     "output_type": "display_data"
    },
    {
     "name": "stdout",
     "output_type": "stream",
     "text": [
      "accuracy\n",
      "\ttraining         \t (min:    0.198, max:    0.381, cur:    0.379)\n",
      "\tvalidation       \t (min:    0.611, max:    0.730, cur:    0.730)\n",
      "Loss\n",
      "\ttraining         \t (min:    4.391, max:    5.677, cur:    5.677)\n",
      "\tvalidation       \t (min:    1.276, max:    1.717, cur:    1.659)\n",
      "Epoch 00017: early stopping\n",
      "84/84 [==============================] - 49s 583ms/step - loss: 1.6407 - accuracy: 0.7078\n",
      "\n",
      "===== EVALUATE =====\n",
      "\n",
      "test loss, test acc: [1.64071786403656, 0.7078148126602173]\n",
      "\n",
      "====================\n",
      "\n",
      "Execution Time: 05:27:30\n",
      "CPU times: user 5h 6min 47s, sys: 17min 42s, total: 5h 24min 30s\n",
      "Wall time: 5h 27min 30s\n"
     ]
    },
    {
     "data": {
      "image/png": "[encoded data removed]",
      "text/plain": [
       "<IPython.core.display.Image object>"
      ]
     },
     "execution_count": 17,
     "metadata": {},
     "output_type": "execute_result"
    }
   ],
   "source": [
    "%%time\n",
    "start = time.time()\n",
    "\n",
    "build_model = functools.partial(hyper_model_gen,models={'my_pretrained_resnet50':my_pretrained_resnet50},num_classes=nb_classes)\n",
    "\n",
    "(res_hist,res_eval,res_params,res_fig) = tune_fit_and_evaluate(\n",
    "    hyper_model=build_model,\n",
    "    model_name='my_pretrained_resnet50',\n",
    "    train_ds=train_ds,\n",
    "    val_ds=val_ds,\n",
    "    test_ds=test_ds\n",
    ")\n",
    "\n",
    "end = time.time()\n",
    "res_time = exec_time(start,end)\n",
    "res_fig"
   ]
  },
  {
   "cell_type": "markdown",
   "id": "fd2329b1",
   "metadata": {
    "papermill": {
     "duration": 0.017422,
     "end_time": "2022-07-15T04:03:58.344716",
     "exception": false,
     "start_time": "2022-07-15T04:03:58.327294",
     "status": "completed"
    },
    "tags": []
   },
   "source": [
    "#### Tune and Fit ViT model"
   ]
  },
  {
   "cell_type": "markdown",
   "id": "711de27c",
   "metadata": {
    "papermill": {
     "duration": 0.016364,
     "end_time": "2022-07-15T04:03:58.378693",
     "exception": false,
     "start_time": "2022-07-15T04:03:58.362329",
     "status": "completed"
    },
    "tags": []
   },
   "source": [
    "#### Vision Transformer"
   ]
  },
  {
   "cell_type": "code",
   "execution_count": 18,
   "id": "7463ff78",
   "metadata": {
    "execution": {
     "iopub.execute_input": "2022-07-15T04:03:58.423457Z",
     "iopub.status.busy": "2022-07-15T04:03:58.423081Z",
     "iopub.status.idle": "2022-07-15T04:03:58.431521Z",
     "shell.execute_reply": "2022-07-15T04:03:58.430447Z"
    },
    "papermill": {
     "duration": 0.030189,
     "end_time": "2022-07-15T04:03:58.433463",
     "exception": false,
     "start_time": "2022-07-15T04:03:58.403274",
     "status": "completed"
    },
    "tags": []
   },
   "outputs": [],
   "source": [
    "def my_pretrained_vit_model(hp,mode,num_classes,\n",
    "    handle=\"https://tfhub.dev/sayakpaul/vit_s16_fe/1\"):\n",
    "    \n",
    "    hub_layer = tfhub.KerasLayer(handle,trainable=False)\n",
    "\n",
    "    model = tf.keras.Sequential(\n",
    "        name=\"myViT\",\n",
    "        layers= [\n",
    "            tf.keras.layers.InputLayer(IMG_SIZE + (3,)),\n",
    "            Equalize(dynamic=True),\n",
    "            tf.keras.layers.Rescaling(scale=1 / 127.5, offset=-1),\n",
    "            hub_layer,\n",
    "            soft_max(units=num_classes)\n",
    "        ]\n",
    "    )\n",
    "    \n",
    "    model.compile(loss=\"categorical_crossentropy\",\n",
    "            metrics=[\"accuracy\"],\n",
    "            optimizer=tf.keras.optimizers.RMSprop(learning_rate=learning_rate(hp,mode))\n",
    "          )\n",
    "    \n",
    "    return model"
   ]
  },
  {
   "cell_type": "code",
   "execution_count": 19,
   "id": "9e50c689",
   "metadata": {
    "execution": {
     "iopub.execute_input": "2022-07-15T04:03:58.470270Z",
     "iopub.status.busy": "2022-07-15T04:03:58.468261Z",
     "iopub.status.idle": "2022-07-15T09:33:08.418561Z",
     "shell.execute_reply": "2022-07-15T09:33:08.416579Z"
    },
    "papermill": {
     "duration": 19749.970826,
     "end_time": "2022-07-15T09:33:08.421182",
     "exception": false,
     "start_time": "2022-07-15T04:03:58.450356",
     "status": "completed"
    },
    "tags": []
   },
   "outputs": [
    {
     "data": {
      "image/png": "[encoded data removed]",
      "text/plain": [
       "<Figure size 864x576 with 2 Axes>"
      ]
     },
     "metadata": {
      "needs_background": "light"
     },
     "output_type": "display_data"
    },
    {
     "name": "stdout",
     "output_type": "stream",
     "text": [
      "accuracy\n",
      "\ttraining         \t (min:    0.419, max:    0.692, cur:    0.690)\n",
      "\tvalidation       \t (min:    0.757, max:    0.816, cur:    0.793)\n",
      "Loss\n",
      "\ttraining         \t (min:    1.159, max:    2.675, cur:    1.159)\n",
      "\tvalidation       \t (min:    0.735, max:    0.875, cur:    0.869)\n",
      "Epoch 00016: early stopping\n",
      "84/84 [==============================] - 55s 647ms/step - loss: 0.7562 - accuracy: 0.8084\n",
      "\n",
      "===== EVALUATE =====\n",
      "\n",
      "test loss, test acc: [0.75617516040802, 0.8083623647689819]\n",
      "\n",
      "====================\n",
      "\n",
      "Execution Time: 05:29:10\n",
      "CPU times: user 4h 43min 50s, sys: 17min 54s, total: 5h 1min 45s\n",
      "Wall time: 5h 29min 9s\n"
     ]
    },
    {
     "data": {
      "image/png": "[encoded data removed]",
      "text/plain": [
       "<IPython.core.display.Image object>"
      ]
     },
     "execution_count": 19,
     "metadata": {},
     "output_type": "execute_result"
    }
   ],
   "source": [
    "%%time\n",
    "start = time.time()\n",
    "\n",
    "build_model = functools.partial(hyper_model_gen,models={'my_pretrained_vit_model':my_pretrained_vit_model},num_classes=nb_classes)\n",
    "\n",
    "(vit_hist,vit_eval,vit_params,vit_fig) = tune_fit_and_evaluate(\n",
    "    hyper_model=build_model,\n",
    "    model_name='my_pretrained_vit_model',\n",
    "    train_ds=train_ds,\n",
    "    val_ds=val_ds,\n",
    "    test_ds=test_ds\n",
    ")\n",
    "\n",
    "end = time.time()\n",
    "vit_time = exec_time(start,end)\n",
    "vit_fig"
   ]
  }
 ],
 "metadata": {
  "kernelspec": {
   "display_name": "Python 3",
   "language": "python",
   "name": "python3"
  },
  "language_info": {
   "codemirror_mode": {
    "name": "ipython",
    "version": 3
   },
   "file_extension": ".py",
   "mimetype": "text/x-python",
   "name": "python",
   "nbconvert_exporter": "python",
   "pygments_lexer": "ipython3",
   "version": "3.7.12"
  },
  "papermill": {
   "default_parameters": {},
   "duration": 39521.359924,
   "end_time": "2022-07-15T09:33:11.520515",
   "environment_variables": {},
   "exception": null,
   "input_path": "__notebook__.ipynb",
   "output_path": "__notebook__.ipynb",
   "parameters": {},
   "start_time": "2022-07-14T22:34:30.160591",
   "version": "2.3.4"
  }
 },
 "nbformat": 4,
 "nbformat_minor": 5
}
